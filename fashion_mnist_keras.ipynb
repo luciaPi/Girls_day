{
  "nbformat": 4,
  "nbformat_minor": 0,
  "metadata": {
    "colab": {
      "provenance": [],
      "toc_visible": true,
      "include_colab_link": true
    },
    "kernelspec": {
      "name": "python3",
      "display_name": "Python 3"
    },
    "accelerator": "GPU"
  },
  "cells": [
    {
      "cell_type": "markdown",
      "metadata": {
        "id": "view-in-github",
        "colab_type": "text"
      },
      "source": [
        "<a href=\"https://colab.research.google.com/github/luciaPi/Girls_day/blob/main/fashion_mnist_keras.ipynb\" target=\"_parent\"><img src=\"https://colab.research.google.com/assets/colab-badge.svg\" alt=\"Open In Colab\"/></a>"
      ]
    },
    {
      "metadata": {
        "id": "r2NPAI4jZZgi"
      },
      "cell_type": "markdown",
      "source": [
        "# Klasifikácia Fashion-MNIST pomocou Konvolučnej neurónovej siete v Pythone\n",
        "\n",
        "Knižnica: Tensorflow\n",
        "\n",
        "![Fashion MNIST](https://github.com/margaretmz/deep-learning/blob/master/images/modern%20dl_fash-mnist_keras.png?raw=1)"
      ]
    },
    {
      "metadata": {
        "id": "XLMRPLVCFwEc"
      },
      "cell_type": "markdown",
      "source": [
        "## Fashion-MNIST dataset\n",
        "\n",
        "*   28x28 čiernobiele obrázky\n",
        "*   70 000 obrázkov (60 000 tréning, 10 000 test)\n",
        "*   10 kategórií\n",
        "\n",
        "<br> **Kategórie**\n",
        "\n",
        "![Labels](https://drive.google.com/uc?id=1g14-UZkDVOaSkDlDX_ead1cNZ79M25xV)\n"
      ]
    },
    {
      "metadata": {
        "id": "LbCigZtNZZgl"
      },
      "cell_type": "markdown",
      "source": [
        "## Stiahnutie fashion_mnist datasetu\n",
        "\n",
        "**Dataset**\n",
        "* x - vstup (obrázok)\n",
        "* y - výstup (kategória)"
      ]
    },
    {
      "metadata": {
        "id": "d44TznbgZZgm"
      },
      "cell_type": "code",
      "source": [
        "!pip install -q -U tensorflow>=1.8.0\n",
        "import tensorflow as tf\n",
        "import numpy as np\n",
        "import matplotlib.pyplot as plt\n",
        "\n",
        "# Load the fashion-mnist\n",
        "(x_train, y_train), (x_test, y_test) = tf.keras.datasets.fashion_mnist.load_data()"
      ],
      "execution_count": null,
      "outputs": []
    },
    {
      "metadata": {
        "id": "tWORMSC8FDR4"
      },
      "cell_type": "markdown",
      "source": [
        "## Vizualizovanie dát"
      ]
    },
    {
      "cell_type": "code",
      "source": [
        "print(\"x_train shape:\", x_train.shape, \"y_train shape:\", y_train.shape)\n",
        "print(\"y_test shape:\", x_test.shape, \"y_test shape:\", y_test.shape)\n",
        "\n",
        "# Print the number of training and test datasets\n",
        "print('Train set:', x_train.shape[0], 'images')\n",
        "print('Test set:', x_test.shape[0], 'images')"
      ],
      "metadata": {
        "colab": {
          "base_uri": "https://localhost:8080/"
        },
        "id": "8nT157xYimnD",
        "outputId": "88304cbf-9787-45dc-8b80-6e393a47c278"
      },
      "execution_count": null,
      "outputs": [
        {
          "output_type": "stream",
          "name": "stdout",
          "text": [
            "x_train shape: (60000, 28, 28) y_train shape: (60000,)\n",
            "y_test shape: (10000, 28, 28) y_test shape: (10000,)\n",
            "Train set: 60000 images\n",
            "Test set: 10000 images\n"
          ]
        }
      ]
    },
    {
      "cell_type": "code",
      "source": [
        "# Define the text labels\n",
        "fashion_mnist_labels = [\"T-shirt/top\",  # index 0\n",
        "                        \"Trouser\",      # index 1\n",
        "                        \"Pullover\",     # index 2 \n",
        "                        \"Dress\",        # index 3 \n",
        "                        \"Coat\",         # index 4\n",
        "                        \"Sandal\",       # index 5\n",
        "                        \"Shirt\",        # index 6 \n",
        "                        \"Sneaker\",      # index 7 \n",
        "                        \"Bag\",          # index 8 \n",
        "                        \"Ankle boot\"]   # index 9\n",
        "print(fashion_mnist_labels[2])"
      ],
      "metadata": {
        "colab": {
          "base_uri": "https://localhost:8080/"
        },
        "id": "0V1b8L4PjURC",
        "outputId": "d155bb66-a74e-47a2-ac64-57d4b0e7fd95"
      },
      "execution_count": null,
      "outputs": [
        {
          "output_type": "stream",
          "name": "stdout",
          "text": [
            "Pullover\n"
          ]
        }
      ]
    },
    {
      "metadata": {
        "id": "aFe4wHGRFKle",
        "colab": {
          "base_uri": "https://localhost:8080/"
        },
        "outputId": "415f556e-ac75-4799-82c0-a5bb588ff066"
      },
      "cell_type": "code",
      "source": [
        "# Image index (number between 0 and 59 999)\n",
        "img_index = 5\n",
        "# y_train contains the lables (categories from 0 to 9)\n",
        "label_index = y_train[img_index]\n",
        "print('Image index:', img_index, ' Label:', label_index, fashion_mnist_labels[label_index])"
      ],
      "execution_count": null,
      "outputs": [
        {
          "output_type": "stream",
          "name": "stdout",
          "text": [
            "Image index: 5  Label: 2 Pullover\n"
          ]
        }
      ]
    },
    {
      "cell_type": "code",
      "source": [
        "plt.imshow(x_train[img_index], cmap='gray')"
      ],
      "metadata": {
        "colab": {
          "base_uri": "https://localhost:8080/",
          "height": 447
        },
        "id": "asdHUTN0js8h",
        "outputId": "bdd12a9c-162b-4542-8c15-ed2b94141a12"
      },
      "execution_count": null,
      "outputs": [
        {
          "output_type": "execute_result",
          "data": {
            "text/plain": [
              "<matplotlib.image.AxesImage at 0x7f2d6a3fe940>"
            ]
          },
          "metadata": {},
          "execution_count": 6
        },
        {
          "output_type": "display_data",
          "data": {
            "text/plain": [
              "<Figure size 640x480 with 1 Axes>"
            ],
            "image/png": "[encoded data removed]"
          },
          "metadata": {}
        }
      ]
    },
    {
      "metadata": {
        "id": "Zx-Ee6LHZZgt"
      },
      "cell_type": "markdown",
      "source": [
        "## Normalizácia dát\n",
        "Dáta musia mať rozsah hodnôt od 0 do 1."
      ]
    },
    {
      "metadata": {
        "id": "XNh5NIckZZgu"
      },
      "cell_type": "code",
      "source": [
        "x_train = x_train.astype('float32') / 255\n",
        "x_test = x_test.astype('float32') / 255"
      ],
      "execution_count": null,
      "outputs": []
    },
    {
      "metadata": {
        "id": "CFlNHktHBtru"
      },
      "cell_type": "markdown",
      "source": [
        "## Rozdelenie datasetu\n",
        "\n",
        "*   Trénovacie dáta - tréning modelu\n",
        "*   Validačné dáta - tuning parametrov modelu\n",
        "*   Testovacie dáta - záverečné testovanie modelu\n",
        "\n"
      ]
    },
    {
      "cell_type": "code",
      "source": [
        "# Further break training data into train / validation sets (# put 5000 into validation set and keep remaining 55,000 for train)\n",
        "(x_train, x_valid) = x_train[5000:], x_train[:5000] \n",
        "(y_train, y_valid) = y_train[5000:], y_train[:5000]\n",
        "\n",
        "print('Train set:', x_train.shape[0], 'images')\n",
        "print('Validation set:', x_valid.shape[0], 'images')\n",
        "print('Test set:', x_test.shape[0], 'images')"
      ],
      "metadata": {
        "colab": {
          "base_uri": "https://localhost:8080/"
        },
        "id": "P50tqBV9l9VC",
        "outputId": "d43111fd-2179-46c6-cb5b-483a704dd792"
      },
      "execution_count": null,
      "outputs": [
        {
          "output_type": "stream",
          "name": "stdout",
          "text": [
            "Train set: 55000 images\n",
            "Validation set: 5000 images\n",
            "Test set: 10000 images\n"
          ]
        }
      ]
    },
    {
      "cell_type": "code",
      "source": [
        "# Reshape input data from (28, 28) to (28, 28, 1)\n",
        "w, h = 28, 28\n",
        "x_train = x_train.reshape(x_train.shape[0], w, h, 1)\n",
        "x_valid = x_valid.reshape(x_valid.shape[0], w, h, 1)\n",
        "x_test = x_test.reshape(x_test.shape[0], w, h, 1)\n",
        "\n",
        "# One-hot encode the labels\n",
        "y_train = tf.keras.utils.to_categorical(y_train, 10)\n",
        "y_valid = tf.keras.utils.to_categorical(y_valid, 10)\n",
        "y_test = tf.keras.utils.to_categorical(y_test, 10)\n",
        "\n",
        "# Print training set shape\n",
        "print(\"x_train shape:\", x_train.shape, \"y_train shape:\", y_train.shape)"
      ],
      "metadata": {
        "colab": {
          "base_uri": "https://localhost:8080/"
        },
        "id": "5DMu3XNcl9e6",
        "outputId": "7b05aae1-acda-4a54-a489-587f8ac3dc86"
      },
      "execution_count": null,
      "outputs": [
        {
          "output_type": "stream",
          "name": "stdout",
          "text": [
            "x_train shape: (55000, 28, 28, 1) y_train shape: (55000, 10)\n"
          ]
        }
      ]
    },
    {
      "metadata": {
        "id": "HhalcO03ZZg3"
      },
      "cell_type": "markdown",
      "source": [
        "## Vytvorenie modelu\n",
        "\n",
        "Vrstvy konvolučnej neurónovej siete: \n",
        "*   Conv2D - konvolučná vrstva \n",
        "*   Pooling - zmenšuje rozmer \n",
        "*   Dropout - pridáva náhodnosť \n",
        "\n",
        "Vrstvy neurónovej siete: \n",
        "*   Flatten - z 2D do 1D\n",
        "*   Dense - klasická vrstva"
      ]
    },
    {
      "metadata": {
        "id": "QgTZ47SsZZg4",
        "colab": {
          "base_uri": "https://localhost:8080/"
        },
        "outputId": "f4f1d851-b4b9-4e12-85ed-b972663036e5"
      },
      "cell_type": "code",
      "source": [
        "model = tf.keras.Sequential()\n",
        "\n",
        "# Convolutional neural network\n",
        "model.add(tf.keras.layers.Conv2D(filters=64, kernel_size=2, padding='same', activation='relu', input_shape=(28,28,1))) \n",
        "model.add(tf.keras.layers.MaxPooling2D(pool_size=2))\n",
        "model.add(tf.keras.layers.Dropout(0.3))\n",
        "\n",
        "model.add(tf.keras.layers.Conv2D(filters=32, kernel_size=2, padding='same', activation='relu'))\n",
        "model.add(tf.keras.layers.MaxPooling2D(pool_size=2))\n",
        "model.add(tf.keras.layers.Dropout(0.3))\n",
        "\n",
        "# Neural network\n",
        "model.add(tf.keras.layers.Flatten())\n",
        "model.add(tf.keras.layers.Dense(256, activation='relu'))\n",
        "model.add(tf.keras.layers.Dropout(0.5))\n",
        "model.add(tf.keras.layers.Dense(10, activation='softmax'))\n",
        "\n",
        "# model summary\n",
        "model.summary()"
      ],
      "execution_count": null,
      "outputs": [
        {
          "output_type": "stream",
          "name": "stdout",
          "text": [
            "Model: \"sequential\"\n",
            "_________________________________________________________________\n",
            " Layer (type)                Output Shape              Param #   \n",
            "=================================================================\n",
            " conv2d (Conv2D)             (None, 28, 28, 64)        320       \n",
            "                                                                 \n",
            " max_pooling2d (MaxPooling2D  (None, 14, 14, 64)       0         \n",
            " )                                                               \n",
            "                                                                 \n",
            " dropout (Dropout)           (None, 14, 14, 64)        0         \n",
            "                                                                 \n",
            " conv2d_1 (Conv2D)           (None, 14, 14, 32)        8224      \n",
            "                                                                 \n",
            " max_pooling2d_1 (MaxPooling  (None, 7, 7, 32)         0         \n",
            " 2D)                                                             \n",
            "                                                                 \n",
            " dropout_1 (Dropout)         (None, 7, 7, 32)          0         \n",
            "                                                                 \n",
            " flatten (Flatten)           (None, 1568)              0         \n",
            "                                                                 \n",
            " dense (Dense)               (None, 256)               401664    \n",
            "                                                                 \n",
            " dropout_2 (Dropout)         (None, 256)               0         \n",
            "                                                                 \n",
            " dense_1 (Dense)             (None, 10)                2570      \n",
            "                                                                 \n",
            "=================================================================\n",
            "Total params: 412,778\n",
            "Trainable params: 412,778\n",
            "Non-trainable params: 0\n",
            "_________________________________________________________________\n"
          ]
        }
      ]
    },
    {
      "metadata": {
        "id": "FhxJ5dinZZg8"
      },
      "cell_type": "markdown",
      "source": [
        "## Kompilácia modelu\n",
        "\n"
      ]
    },
    {
      "metadata": {
        "id": "CQUlOa8cZZg9"
      },
      "cell_type": "code",
      "source": [
        "model.compile(loss='categorical_crossentropy',\n",
        "             optimizer=tf.keras.optimizers.Adam(learning_rate=0.001),\n",
        "             metrics=['accuracy'])"
      ],
      "execution_count": null,
      "outputs": []
    },
    {
      "metadata": {
        "id": "DtOvh3YVZZg_"
      },
      "cell_type": "markdown",
      "source": [
        "## Tréning modelu\n",
        "\n",
        "Priebežne sa ukladá model na základe presnosti na validačnej množine. (checkpoint)\n"
      ]
    },
    {
      "metadata": {
        "id": "ZTmapAttZZhA"
      },
      "cell_type": "code",
      "source": [
        "from keras.callbacks import ModelCheckpoint\n",
        "\n",
        "checkpointer = ModelCheckpoint(filepath='model.weights.best.hdf5', verbose = 1, save_best_only=True)"
      ],
      "execution_count": null,
      "outputs": []
    },
    {
      "cell_type": "code",
      "source": [
        "model.fit(x_train, # training data - input(images)\n",
        "         y_train, # training data - output(categories)\n",
        "         batch_size=64,\n",
        "         epochs=10, # training repetitions\n",
        "         validation_data=(x_valid, y_valid), # validation set - input,output\n",
        "         callbacks=[checkpointer])"
      ],
      "metadata": {
        "colab": {
          "base_uri": "https://localhost:8080/"
        },
        "id": "pI26caIApOET",
        "outputId": "f2f8ef38-34dc-4d2c-cc7e-3295f97625ab"
      },
      "execution_count": null,
      "outputs": [
        {
          "output_type": "stream",
          "name": "stdout",
          "text": [
            "Epoch 1/10\n",
            "859/860 [============================>.] - ETA: 0s - loss: 0.4844 - accuracy: 0.8216\n",
            "Epoch 1: val_loss improved from inf to 0.35482, saving model to model.weights.best.hdf5\n",
            "860/860 [==============================] - 6s 6ms/step - loss: 0.4844 - accuracy: 0.8216 - val_loss: 0.3548 - val_accuracy: 0.8716\n",
            "Epoch 2/10\n",
            "855/860 [============================>.] - ETA: 0s - loss: 0.4739 - accuracy: 0.8279\n",
            "Epoch 2: val_loss improved from 0.35482 to 0.33572, saving model to model.weights.best.hdf5\n",
            "860/860 [==============================] - 4s 5ms/step - loss: 0.4745 - accuracy: 0.8279 - val_loss: 0.3357 - val_accuracy: 0.8768\n",
            "Epoch 3/10\n",
            "853/860 [============================>.] - ETA: 0s - loss: 0.4733 - accuracy: 0.8272\n",
            "Epoch 3: val_loss did not improve from 0.33572\n",
            "860/860 [==============================] - 4s 5ms/step - loss: 0.4730 - accuracy: 0.8272 - val_loss: 0.3424 - val_accuracy: 0.8706\n",
            "Epoch 4/10\n",
            "856/860 [============================>.] - ETA: 0s - loss: 0.4576 - accuracy: 0.8321\n",
            "Epoch 4: val_loss did not improve from 0.33572\n",
            "860/860 [==============================] - 5s 5ms/step - loss: 0.4575 - accuracy: 0.8322 - val_loss: 0.3605 - val_accuracy: 0.8690\n",
            "Epoch 5/10\n",
            "856/860 [============================>.] - ETA: 0s - loss: 0.4602 - accuracy: 0.8319\n",
            "Epoch 5: val_loss improved from 0.33572 to 0.31040, saving model to model.weights.best.hdf5\n",
            "860/860 [==============================] - 4s 5ms/step - loss: 0.4605 - accuracy: 0.8320 - val_loss: 0.3104 - val_accuracy: 0.8794\n",
            "Epoch 6/10\n",
            "856/860 [============================>.] - ETA: 0s - loss: 0.4558 - accuracy: 0.8336\n",
            "Epoch 6: val_loss did not improve from 0.31040\n",
            "860/860 [==============================] - 4s 5ms/step - loss: 0.4556 - accuracy: 0.8337 - val_loss: 0.3288 - val_accuracy: 0.8748\n",
            "Epoch 7/10\n",
            "856/860 [============================>.] - ETA: 0s - loss: 0.4638 - accuracy: 0.8319\n",
            "Epoch 7: val_loss did not improve from 0.31040\n",
            "860/860 [==============================] - 6s 6ms/step - loss: 0.4637 - accuracy: 0.8320 - val_loss: 0.3372 - val_accuracy: 0.8730\n",
            "Epoch 8/10\n",
            "852/860 [============================>.] - ETA: 0s - loss: 0.4618 - accuracy: 0.8290\n",
            "Epoch 8: val_loss did not improve from 0.31040\n",
            "860/860 [==============================] - 4s 5ms/step - loss: 0.4615 - accuracy: 0.8291 - val_loss: 0.3364 - val_accuracy: 0.8736\n",
            "Epoch 9/10\n",
            "860/860 [==============================] - ETA: 0s - loss: 0.4589 - accuracy: 0.8309\n",
            "Epoch 9: val_loss did not improve from 0.31040\n",
            "860/860 [==============================] - 4s 5ms/step - loss: 0.4589 - accuracy: 0.8309 - val_loss: 0.3210 - val_accuracy: 0.8776\n",
            "Epoch 10/10\n",
            "858/860 [============================>.] - ETA: 0s - loss: 0.4512 - accuracy: 0.8368\n",
            "Epoch 10: val_loss did not improve from 0.31040\n",
            "860/860 [==============================] - 4s 5ms/step - loss: 0.4510 - accuracy: 0.8367 - val_loss: 0.3305 - val_accuracy: 0.8786\n"
          ]
        },
        {
          "output_type": "execute_result",
          "data": {
            "text/plain": [
              "<keras.callbacks.History at 0x7f2d500be220>"
            ]
          },
          "metadata": {},
          "execution_count": 119
        }
      ]
    },
    {
      "metadata": {
        "id": "e-MGLwZQy05d"
      },
      "cell_type": "markdown",
      "source": [
        "## Načítanie modelu s najväčšou validačnou presnosťou"
      ]
    },
    {
      "metadata": {
        "id": "UD1tecxUZZhE"
      },
      "cell_type": "code",
      "source": [
        "# Load the weights with the best validation accuracy\n",
        "model.load_weights('model.weights.best.hdf5')"
      ],
      "execution_count": null,
      "outputs": []
    },
    {
      "metadata": {
        "id": "9RTRkan4yq5H"
      },
      "cell_type": "markdown",
      "source": [
        "## Test Accuracy\n",
        "\n",
        "Presnosť na testovacích dátach."
      ]
    },
    {
      "metadata": {
        "id": "VZtqBqFFy62R",
        "colab": {
          "base_uri": "https://localhost:8080/"
        },
        "outputId": "f66ec00e-5915-43e7-c110-e407a7d936cc"
      },
      "cell_type": "code",
      "source": [
        "# Evaluate the model on test set\n",
        "score = model.evaluate(x_test, y_test, verbose=1)\n",
        "\n",
        "# Print test accuracy\n",
        "print('Test accuracy:', score[1])"
      ],
      "execution_count": null,
      "outputs": [
        {
          "output_type": "stream",
          "name": "stdout",
          "text": [
            "313/313 [==============================] - 1s 3ms/step - loss: 0.2462 - accuracy: 0.9084\n",
            "Test accuracy: 0.9083999991416931\n"
          ]
        }
      ]
    },
    {
      "metadata": {
        "id": "oJv7XEk10bOv"
      },
      "cell_type": "markdown",
      "source": [
        "## Vizualizovanie výsledkov\n",
        "\n",
        "Použitie natrénovaného modelu.\n",
        "\n",
        "Predikcia kategórie na testovacom datasete."
      ]
    },
    {
      "cell_type": "code",
      "source": [
        "index = 1\n",
        "first_img = tf.expand_dims(x_test[index], axis=0)\n",
        "plt.imshow(first_img[0], cmap='gray')"
      ],
      "metadata": {
        "colab": {
          "base_uri": "https://localhost:8080/",
          "height": 447
        },
        "id": "1O_fT-zm6IZX",
        "outputId": "667ef3b9-4dcf-4191-8f0b-72e87b7bfa21"
      },
      "execution_count": null,
      "outputs": [
        {
          "output_type": "execute_result",
          "data": {
            "text/plain": [
              "<matplotlib.image.AxesImage at 0x7f2e01661c40>"
            ]
          },
          "metadata": {},
          "execution_count": 59
        },
        {
          "output_type": "display_data",
          "data": {
            "text/plain": [
              "<Figure size 640x480 with 1 Axes>"
            ],
            "image/png": "[encoded data removed]"
          },
          "metadata": {}
        }
      ]
    },
    {
      "cell_type": "code",
      "source": [
        "prediction = model.predict(first_img)\n",
        "print('Prediction:', prediction)"
      ],
      "metadata": {
        "colab": {
          "base_uri": "https://localhost:8080/"
        },
        "id": "t9OBsCUk7hxY",
        "outputId": "3d2db5a5-87e8-4c63-9507-3ecaf07045a7"
      },
      "execution_count": null,
      "outputs": [
        {
          "output_type": "stream",
          "name": "stdout",
          "text": [
            "1/1 [==============================] - 0s 20ms/step\n",
            "Prediction: [[1.4958116e-05 2.0072002e-13 9.9995100e-01 1.8446389e-09 2.0122990e-05\n",
            "  4.4807135e-13 1.3967117e-05 8.9515475e-15 2.3284432e-08 1.4789180e-14]]\n"
          ]
        }
      ]
    },
    {
      "cell_type": "code",
      "source": [
        "predict_index = np.argmax(prediction)\n",
        "print('Predicted category:', predict_index, fashion_mnist_labels[predict_index])\n",
        "real_index = np.argmax(y_test[index])\n",
        "print('Real category:', real_index, fashion_mnist_labels[real_index])"
      ],
      "metadata": {
        "colab": {
          "base_uri": "https://localhost:8080/"
        },
        "id": "Qhsjc6R06IvH",
        "outputId": "944708ad-282d-4238-ed08-beb0cfe022ba"
      },
      "execution_count": null,
      "outputs": [
        {
          "output_type": "stream",
          "name": "stdout",
          "text": [
            "Predicted category: 2 Pullover\n",
            "Real category: 2 Pullover\n"
          ]
        }
      ]
    },
    {
      "cell_type": "markdown",
      "source": [
        "10 náhodných obrázkov z testovacej množiny.\n",
        "\n",
        "Predikovaná kategória:\n",
        "* zelená - správne\n",
        "* červená - nesprávne"
      ],
      "metadata": {
        "id": "-KNFFMCbsbe9"
      }
    },
    {
      "cell_type": "code",
      "source": [
        "# 10 random test images\n",
        "figure = plt.figure(figsize=(20, 8))\n",
        "for i, index in enumerate(np.random.choice(x_test.shape[0], size=15, replace=False)):\n",
        "    ax = figure.add_subplot(3, 5, i + 1, xticks=[], yticks=[])\n",
        "    # Display each image\n",
        "    ax.imshow(np.squeeze(x_test[index]), cmap='gray')\n",
        "    predict_index = np.argmax(y_hat[index])\n",
        "    true_index = np.argmax(y_test[index])\n",
        "    # Set the title for each image\n",
        "    ax.set_title(\"{} ({})\".format(fashion_mnist_labels[predict_index], \n",
        "                                  fashion_mnist_labels[true_index]),\n",
        "                                  color=(\"green\" if predict_index == true_index else \"red\"))"
      ],
      "metadata": {
        "colab": {
          "base_uri": "https://localhost:8080/",
          "height": 675
        },
        "id": "07v17hpytB9q",
        "outputId": "3e7f5cbe-5a08-4d3f-a2bc-6262bb7e4bd4"
      },
      "execution_count": null,
      "outputs": [
        {
          "output_type": "display_data",
          "data": {
            "text/plain": [
              "<Figure size 2000x800 with 15 Axes>"
            ],
            "image/png": "[encoded data removed]"
          },
          "metadata": {}
        }
      ]
    },
    {
      "cell_type": "markdown",
      "source": [
        "# Experimenty"
      ],
      "metadata": {
        "id": "2I1X23EN8bcK"
      }
    },
    {
      "cell_type": "markdown",
      "source": [
        "## Reálny obrázok"
      ],
      "metadata": {
        "id": "3j0AIuRl8gfD"
      }
    },
    {
      "cell_type": "code",
      "source": [
        "from PIL import Image\n",
        "\n",
        "new_img = Image.open('jeans.webp').convert('L')\n",
        "new_img = np.array(new_img.resize((28, 28)))  # resize image to 28x28\n",
        "new_img = new_img.astype('float32') / 255\n",
        "new_img = 1-new_img  # invert colors\n",
        "new_img = tf.expand_dims(new_img, axis=0)\n",
        "new_img = tf.expand_dims(new_img, axis=3)\n",
        "plt.imshow(new_img[0], cmap='gray')"
      ],
      "metadata": {
        "colab": {
          "base_uri": "https://localhost:8080/",
          "height": 447
        },
        "id": "bsxj_lkB8YEe",
        "outputId": "22a9089b-d2b0-41d1-eb65-e7cf5bedb365"
      },
      "execution_count": null,
      "outputs": [
        {
          "output_type": "execute_result",
          "data": {
            "text/plain": [
              "<matplotlib.image.AxesImage at 0x7f2e01044ee0>"
            ]
          },
          "metadata": {},
          "execution_count": 114
        },
        {
          "output_type": "display_data",
          "data": {
            "text/plain": [
              "<Figure size 640x480 with 1 Axes>"
            ],
            "image/png": "[encoded data removed]"
          },
          "metadata": {}
        }
      ]
    },
    {
      "cell_type": "code",
      "source": [
        "prediction = model.predict(new_img)\n",
        "print('Prediction:', prediction)"
      ],
      "metadata": {
        "colab": {
          "base_uri": "https://localhost:8080/"
        },
        "outputId": "4fb7eca0-d146-4009-9b4d-5255656f19d8",
        "id": "PaYnNLg0Au8B"
      },
      "execution_count": null,
      "outputs": [
        {
          "output_type": "stream",
          "name": "stdout",
          "text": [
            "1/1 [==============================] - 0s 21ms/step\n",
            "Prediction: [[0.05528001 0.00183308 0.15981433 0.01270843 0.06914336 0.00153327\n",
            "  0.09139171 0.00138101 0.6034792  0.00343558]]\n"
          ]
        }
      ]
    },
    {
      "cell_type": "code",
      "source": [
        "predict_index = np.argmax(prediction)\n",
        "print('Predicted category:', predict_index, fashion_mnist_labels[predict_index])"
      ],
      "metadata": {
        "colab": {
          "base_uri": "https://localhost:8080/"
        },
        "outputId": "7c689a31-1d12-43ca-cdb0-4e115e4358bd",
        "id": "NXo3upx9Au8B"
      },
      "execution_count": null,
      "outputs": [
        {
          "output_type": "stream",
          "name": "stdout",
          "text": [
            "Predicted category: 8 Bag\n"
          ]
        }
      ]
    }
  ]
}